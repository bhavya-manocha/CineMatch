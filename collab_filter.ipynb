{
 "cells": [
  {
   "cell_type": "code",
   "execution_count": null,
   "metadata": {},
   "outputs": [],
   "source": [
    "import pandas as pd\n",
    "from scipy import sparse\n",
    "from sklearn.metrics.pairwise import cosine_similarity"
   ]
  },
  {
   "cell_type": "code",
   "execution_count": null,
   "metadata": {},
   "outputs": [],
   "source": [
    "ratings = pd.read_csv(\"toy_dataset.csv\",index_col=0)\n",
    "ratings = ratings.fillna(0)\n",
    "ratings"
   ]
  },
  {
   "cell_type": "markdown",
   "metadata": {},
   "source": [
    "# Make a standardised function to account for biased ratings"
   ]
  },
  {
   "cell_type": "code",
   "execution_count": null,
   "metadata": {},
   "outputs": [],
   "source": [
    "def standardise(row):\n",
    "    new_row = (row - row.mean())/(row.max() - row.min())\n",
    "    return new_row\n",
    "\n",
    "ratings_std = ratings.apply(standardise)\n",
    "# print(ratings_std)\n",
    "\n",
    "# We are taking a transpose since we want similarity between itmes which need to be in rows\n",
    "item_similarity = cosine_similarity(ratings_std.T)\n",
    "print(item_similarity)"
   ]
  },
  {
   "cell_type": "markdown",
   "metadata": {},
   "source": [
    "# Creating dataframe"
   ]
  },
  {
   "cell_type": "code",
   "execution_count": null,
   "metadata": {},
   "outputs": [],
   "source": [
    "item_similarity_df = pd.DataFrame(item_similarity, index=ratings.columns, columns=ratings.columns)\n",
    "item_similarity_df"
   ]
  },
  {
   "cell_type": "markdown",
   "metadata": {},
   "source": [
    "# Making Recommendations "
   ]
  },
  {
   "cell_type": "code",
   "execution_count": null,
   "metadata": {},
   "outputs": [],
   "source": [
    "def get_similar_movies(movie_name,user_rating):\n",
    "    similar_score = item_similarity_df[movie_name]*(user_rating-2.5)\n",
    "    similar_score = similar_score.sort_values(ascending = False)\n",
    "\n",
    "    return similar_score\n",
    "\n",
    "print(get_similar_movies(\"action1\",5))"
   ]
  },
  {
   "cell_type": "markdown",
   "metadata": {},
   "source": [
    "# If multiple movies rated by user"
   ]
  },
  {
   "cell_type": "code",
   "execution_count": null,
   "metadata": {},
   "outputs": [],
   "source": [
    "action_lover = [(\"action1\",5),(\"romantic2\",1),(\"romantic3\",1)]\n",
    "\n",
    "similar_movies = pd.DataFrame()\n",
    "\n",
    "movie_rating_list = []\n",
    "for movie,rating in action_lover:\n",
    "    movie_rating_list.append(get_similar_movies(movie,rating))\n",
    "\n",
    "# print(movie_rating_list)\n",
    "similar_movies = pd.DataFrame(movie_rating_list).reset_index(drop=True)\n",
    "similar_movies.head()\n",
    "similar_movies.sum().sort_values(ascending=False)"
   ]
  }
 ],
 "metadata": {
  "kernelspec": {
   "display_name": "Python 3",
   "language": "python",
   "name": "python3"
  },
  "language_info": {
   "codemirror_mode": {
    "name": "ipython",
    "version": 3
   },
   "file_extension": ".py",
   "mimetype": "text/x-python",
   "name": "python",
   "nbconvert_exporter": "python",
   "pygments_lexer": "ipython3",
   "version": "3.12.3"
  }
 },
 "nbformat": 4,
 "nbformat_minor": 2
}
